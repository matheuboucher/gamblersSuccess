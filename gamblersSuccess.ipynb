{
 "cells": [
  {
   "cell_type": "code",
   "execution_count": null,
   "metadata": {},
   "outputs": [],
   "source": [
    "def betStrategy(money):\n",
    "    \n",
    "\n",
    "while bankroll >= 0:\n",
    "    betStrategy(bankroll)\n"
   ]
  }
 ],
 "metadata": {
  "kernelspec": {
   "display_name": "Python 3.9.12 ('webScraping')",
   "language": "python",
   "name": "python3"
  },
  "language_info": {
   "name": "python",
   "version": "3.9.12"
  },
  "orig_nbformat": 4,
  "vscode": {
   "interpreter": {
    "hash": "ba25e8f5f662bbe02efdd19fd26eb54758012d58a7d138a2bca8c71dfc24d5d1"
   }
  }
 },
 "nbformat": 4,
 "nbformat_minor": 2
}
